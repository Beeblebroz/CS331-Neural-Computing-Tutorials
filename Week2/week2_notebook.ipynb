{
 "cells": [
  {
   "cell_type": "markdown",
   "metadata": {},
   "source": [
    "# Supplementary Content & Exercise I"
   ]
  },
  {
   "cell_type": "markdown",
   "metadata": {},
   "source": [
    "## I. Brief mathematical proof for XOR"
   ]
  },
  {
   "cell_type": "markdown",
   "metadata": {},
   "source": [
    "### Under the definition of Perceptron: given step function as the activation function, we'll going to find proper weights and bias to form logical calculator such as XOR."
   ]
  },
  {
   "cell_type": "markdown",
   "metadata": {},
   "source": [
    "<img src=\"Perceptron.png\" width=600 height=400 alt=\"Image\">"
   ]
  },
  {
   "cell_type": "markdown",
   "metadata": {},
   "source": [
    "<img src=\"Stepfunction.png\" width=400 height=150 alt=\"Image\">"
   ]
  },
  {
   "cell_type": "markdown",
   "metadata": {},
   "source": [
    "### The proof is simple"
   ]
  },
  {
   "cell_type": "markdown",
   "metadata": {},
   "source": [
    "|  (input1, input2)  | gold output |\n",
    "|  ----  | ----  |\n",
    "| (0, 0) | 0 |\n",
    "| (0, 1) | 1 |\n",
    "| (1, 0) | 1 |\n",
    "| (1, 1) | 0 |"
   ]
  },
  {
   "cell_type": "markdown",
   "metadata": {},
   "source": [
    "#### Assume weights = (w1, w2), bias = b, then we get four inequalities"
   ]
  },
  {
   "cell_type": "markdown",
   "metadata": {},
   "source": [
    "$$w1 * 0 + w2 * 0 + b * 1 < 0$$\n",
    "$$w1 * 0 + w2 * 1 + b * 1 > 0$$\n",
    "$$w1 * 1 + w2 * 0 + b * 1 > 0$$\n",
    "$$w1 * 1 + w2 * 1 + b * 1 < 0$$"
   ]
  },
  {
   "cell_type": "markdown",
   "metadata": {},
   "source": [
    "#### From 2nd and 3rd"
   ]
  },
  {
   "cell_type": "markdown",
   "metadata": {},
   "source": [
    "$$w1 + w2 + 2b > 0$$"
   ]
  },
  {
   "cell_type": "markdown",
   "metadata": {},
   "source": [
    "#### From 1st and 4th"
   ]
  },
  {
   "cell_type": "markdown",
   "metadata": {},
   "source": [
    "$$w1 + w2 + 2b < b < 0$$"
   ]
  },
  {
   "cell_type": "markdown",
   "metadata": {},
   "source": [
    "### However, XOR can be solved if given activation function is replaced by others, e.g. Sigmoid, or: "
   ]
  },
  {
   "cell_type": "markdown",
   "metadata": {},
   "source": [
    "$$\n",
    "\\begin{equation}\n",
    "f(x) = \\begin{cases}\n",
    "0, & \\text{if } w * x + b \\in (0.5, 1.5), \\\\\n",
    "1, & \\text{otherwise }\n",
    "\\end{cases}\n",
    "\\end{equation}\n",
    "$$"
   ]
  },
  {
   "cell_type": "markdown",
   "metadata": {},
   "source": [
    "<center>{w1 = 1.0, w2 = -1.0, b = 1.0} is a solution</center>"
   ]
  },
  {
   "cell_type": "markdown",
   "metadata": {},
   "source": [
    "### Try: can you construct any activation function to formulate AND, OR, NOT and XOR all by 1-layer network?"
   ]
  },
  {
   "cell_type": "code",
   "execution_count": null,
   "metadata": {},
   "outputs": [],
   "source": []
  },
  {
   "cell_type": "markdown",
   "metadata": {},
   "source": [
    "## II. Construction of XOR by Perceptrons: reach nonlinearity by linearity"
   ]
  },
  {
   "cell_type": "markdown",
   "metadata": {},
   "source": [
    "### Exercise: given the network structure, place AND, OR and NOT in A, B and C properly to form XOR"
   ]
  },
  {
   "cell_type": "markdown",
   "metadata": {},
   "source": [
    "<img src=\"xor-quiz.png\" alt=\"Image\">"
   ]
  },
  {
   "cell_type": "markdown",
   "metadata": {},
   "source": [
    "#### \\*Not a neural network, so there's no weights on the edges"
   ]
  },
  {
   "cell_type": "code",
   "execution_count": null,
   "metadata": {},
   "outputs": [],
   "source": []
  },
  {
   "cell_type": "markdown",
   "metadata": {},
   "source": [
    "<img src=\"xor-answer.png\" alt=\"Image\">"
   ]
  },
  {
   "cell_type": "markdown",
   "metadata": {},
   "source": [
    "|  (input1, input2)  | after A | after B | after C | after AND | gold output |\n",
    "|  ----------------  | ------  | ------  | ------  | --------  | ----------  |\n",
    "| (0, 0) | 0 | 0 | 1 | 0 | 0 |\n",
    "| (0, 1) | 0 | 1 | 1 | 1 | 1 |\n",
    "| (1, 0) | 0 | 1 | 1 | 1 | 1 |\n",
    "| (1, 1) | 1 | 1 | 0 | 0 | 0 |"
   ]
  },
  {
   "cell_type": "code",
   "execution_count": null,
   "metadata": {},
   "outputs": [],
   "source": []
  },
  {
   "cell_type": "markdown",
   "metadata": {},
   "source": [
    "## III. Python code for AND calculator"
   ]
  },
  {
   "cell_type": "markdown",
   "metadata": {},
   "source": [
    "<img src=\"Perceptron.png\" width=600 height=400 alt=\"Image\">"
   ]
  },
  {
   "cell_type": "code",
   "execution_count": 1,
   "metadata": {},
   "outputs": [
    {
     "name": "stdout",
     "output_type": "stream",
     "text": [
      "Nice!  You got it all correct.\n",
      "\n",
      "Input 1    Input 2    Linear Combination    Activation Output   Is Correct\n",
      "      0          0                  -1.5                    0          Yes\n",
      "      0          1                  -0.5                    0          Yes\n",
      "      1          0                  -0.5                    0          Yes\n",
      "      1          1                   0.5                    1          Yes\n"
     ]
    }
   ],
   "source": [
    "# Based on Udacity's codes: intro to deep learning with PyTorch\n",
    "\n",
    "import pandas as pd\n",
    "\n",
    "# Inputs and outputs\n",
    "test_inputs = [(0, 0), (0, 1), (1, 0), (1, 1)]\n",
    "correct_outputs = [0, 0, 0, 1]\n",
    "outputs = []\n",
    "\n",
    "# Set weight1, weight2, and bias\n",
    "weight1 = 1.0\n",
    "weight2 = 1.0\n",
    "bias = -1.5\n",
    "\n",
    "# Generate and check output: how perceptron works\n",
    "for test_input, correct_output in zip(test_inputs, correct_outputs):\n",
    "    linear_combination = weight1 * test_input[0] + weight2 * test_input[1] + bias\n",
    "    \n",
    "    # Step function\n",
    "    if linear_combination > 0:\n",
    "        output = 1\n",
    "    else:\n",
    "        output = 0\n",
    "        \n",
    "    is_correct_string = 'Yes' if output == correct_output else 'No'\n",
    "    outputs.append([test_input[0], test_input[1], linear_combination, output, is_correct_string])\n",
    "    \n",
    "# Print output\n",
    "num_wrong = len([output[4] for output in outputs if output[4] == 'No'])\n",
    "output_frame = pd.DataFrame(outputs, columns=['Input 1', '  Input 2', '  Linear Combination', '  Activation Output', '  Is Correct'])\n",
    "if not num_wrong:\n",
    "    print('Nice!  You got it all correct.\\n')\n",
    "else:\n",
    "    print('You got {} wrong.  Keep trying!\\n'.format(num_wrong))\n",
    "print(output_frame.to_string(index=False))"
   ]
  },
  {
   "cell_type": "markdown",
   "metadata": {},
   "source": [
    "### What about XOR?"
   ]
  },
  {
   "cell_type": "code",
   "execution_count": 2,
   "metadata": {},
   "outputs": [
    {
     "name": "stdout",
     "output_type": "stream",
     "text": [
      "You got 3 wrong.  Keep trying!\n",
      "\n",
      "Input 1    Input 2    Linear Combination    Activation Output   Is Correct\n",
      "      0          0                  -1.5                    0          Yes\n",
      "      0          1                  -0.5                    0           No\n",
      "      1          0                  -0.5                    0           No\n",
      "      1          1                   0.5                    1           No\n"
     ]
    }
   ],
   "source": [
    "# Based on Udacity's codes: intro to deep learning with PyTorch\n",
    "\n",
    "import pandas as pd\n",
    "\n",
    "# Inputs and outputs\n",
    "test_inputs = [(0, 0), (0, 1), (1, 0), (1, 1)]\n",
    "correct_outputs = [0, 1, 1, 0]\n",
    "outputs = []\n",
    "\n",
    "# Set weight1, weight2, and bias\n",
    "weight1 = 1.0\n",
    "weight2 = 1.0\n",
    "bias = -1.5\n",
    "\"\"\"\n",
    "weight1 = 1.0\n",
    "weight2 = -1.0\n",
    "bias = 1.0\n",
    "\"\"\"\n",
    "\n",
    "# Generate and check output: how perceptron works\n",
    "for test_input, correct_output in zip(test_inputs, correct_outputs):\n",
    "    linear_combination = weight1 * test_input[0] + weight2 * test_input[1] + bias\n",
    "    \n",
    "    # Step function\n",
    "    if linear_combination > 0:\n",
    "        output = 1\n",
    "    else:\n",
    "        output = 0\n",
    "    \"\"\"\n",
    "    if 0.5 < linear_combination < 1.5:\n",
    "        output = 0\n",
    "    else:\n",
    "        output = 1\n",
    "    \"\"\"\n",
    "        \n",
    "    is_correct_string = 'Yes' if output == correct_output else 'No'\n",
    "    outputs.append([test_input[0], test_input[1], linear_combination, output, is_correct_string])\n",
    "    \n",
    "# Print output\n",
    "num_wrong = len([output[4] for output in outputs if output[4] == 'No'])\n",
    "output_frame = pd.DataFrame(outputs, columns=['Input 1', '  Input 2', '  Linear Combination', '  Activation Output', '  Is Correct'])\n",
    "if not num_wrong:\n",
    "    print('Nice!  You got it all correct.\\n')\n",
    "else:\n",
    "    print('You got {} wrong.  Keep trying!\\n'.format(num_wrong))\n",
    "print(output_frame.to_string(index=False))"
   ]
  },
  {
   "cell_type": "code",
   "execution_count": null,
   "metadata": {},
   "outputs": [],
   "source": []
  },
  {
   "cell_type": "markdown",
   "metadata": {},
   "source": [
    "## IV. How to find bounday line (weights) automatically?"
   ]
  },
  {
   "cell_type": "markdown",
   "metadata": {},
   "source": [
    "### What if thousands of cases?"
   ]
  },
  {
   "cell_type": "code",
   "execution_count": 4,
   "metadata": {},
   "outputs": [
    {
     "data": {
      "text/plain": [
       "<matplotlib.collections.PathCollection at 0x111155080>"
      ]
     },
     "execution_count": 4,
     "metadata": {},
     "output_type": "execute_result"
    },
    {
     "data": {
      "image/png": "[encoded data removed]",
      "text/plain": [
       "<Figure size 432x288 with 1 Axes>"
      ]
     },
     "metadata": {
      "needs_background": "light"
     },
     "output_type": "display_data"
    }
   ],
   "source": [
    "import pandas as pd\n",
    "import matplotlib.pyplot as plt\n",
    "\n",
    "data = pd.read_csv(\"data.csv\", header=None)\n",
    "test_inputs = data.iloc[:, :2]\n",
    "correct_outputs = data.iloc[:, -1]\n",
    "plt.scatter(data[data.iloc[:, 2] == 0].iloc[:, 0], data[data.iloc[:, 2] == 0].iloc[:, 1], color=\"r\")\n",
    "plt.scatter(data[data.iloc[:, 2] == 1].iloc[:, 0], data[data.iloc[:, 2] == 1].iloc[:, 1], color=\"b\")"
   ]
  },
  {
   "cell_type": "code",
   "execution_count": 5,
   "metadata": {},
   "outputs": [
    {
     "data": {
      "text/plain": [
       "[<matplotlib.lines.Line2D at 0x1111ee320>]"
      ]
     },
     "execution_count": 5,
     "metadata": {},
     "output_type": "execute_result"
    },
    {
     "data": {
      "image/png": "[encoded data removed]",
      "text/plain": [
       "<Figure size 432x288 with 1 Axes>"
      ]
     },
     "metadata": {
      "needs_background": "light"
     },
     "output_type": "display_data"
    }
   ],
   "source": [
    "plt.scatter(data[data.iloc[:, 2] == 0].iloc[:, 0], data[data.iloc[:, 2] == 0].iloc[:, 1], color=\"r\")\n",
    "plt.scatter(data[data.iloc[:, 2] == 1].iloc[:, 0], data[data.iloc[:, 2] == 1].iloc[:, 1], color=\"b\")\n",
    "plt.plot([0.2, 0.8], [0.3, 0.7], color=\"g\", linewidth=6)"
   ]
  },
  {
   "cell_type": "code",
   "execution_count": 6,
   "metadata": {},
   "outputs": [
    {
     "data": {
      "text/plain": [
       "[<matplotlib.lines.Line2D at 0x1112a6048>]"
      ]
     },
     "execution_count": 6,
     "metadata": {},
     "output_type": "execute_result"
    },
    {
     "data": {
      "image/png": "[encoded data removed]",
      "text/plain": [
       "<Figure size 432x288 with 1 Axes>"
      ]
     },
     "metadata": {
      "needs_background": "light"
     },
     "output_type": "display_data"
    }
   ],
   "source": [
    "plt.scatter(data[data.iloc[:, 2] == 0].iloc[:, 0], data[data.iloc[:, 2] == 0].iloc[:, 1], color=\"r\")\n",
    "plt.scatter(data[data.iloc[:, 2] == 1].iloc[:, 0], data[data.iloc[:, 2] == 1].iloc[:, 1], color=\"b\")\n",
    "plt.plot([0.3, 0.8], [1.0, 0.1], color=\"g\", linewidth=6)"
   ]
  },
  {
   "cell_type": "markdown",
   "metadata": {},
   "source": [
    "#### Pseudocode for classification using single-layer perceptron"
   ]
  },
  {
   "cell_type": "markdown",
   "metadata": {},
   "source": [
    "```\n",
    "Input：T={(xi1, xi2, yi)}，i=1,2...N, learning rate=C, epoch=E\n",
    "Output：w1, w2, b\n",
    "\n",
    "(1) Start with random weights w1, w2 and b\n",
    "(2) For every misclassified points (xi1, xi2):\n",
    "        prediction = f(w1xi1 + w2xi2 + b)\n",
    "        if prediction = 0:\n",
    "            w1 = w1 + C * xi1\n",
    "            w2 = w2 + C * xi2\n",
    "            b = b + C\n",
    "        if prediction = 1:\n",
    "            w1 = w1 - C * xi1\n",
    "            w2 = w2 - C * xi2\n",
    "            b = b - C\n",
    "(3) Go back to (2) until no misclassified points or reach E epoch\n",
    "```"
   ]
  },
  {
   "cell_type": "code",
   "execution_count": 7,
   "metadata": {},
   "outputs": [
    {
     "data": {
      "image/png": "[encoded data removed]",
      "text/plain": [
       "<Figure size 1800x288 with 5 Axes>"
      ]
     },
     "metadata": {
      "needs_background": "light"
     },
     "output_type": "display_data"
    }
   ],
   "source": [
    "# Based on Udacity's codes: intro to deep learning with PyTorch\n",
    "import numpy as np\n",
    "\n",
    "# Setting the random seed, feel free to change it and see different solutions\n",
    "np.random.seed(10)\n",
    "\n",
    "# The function should receive as inputs the data X, the labels y,\n",
    "# the weights W (as an array), and the bias b,\n",
    "# update the weights and bias W, b, according to the perceptron algorithm,\n",
    "# and return W and b.\n",
    "def perceptronStep(X, y, W, b, learn_rate=0.01):\n",
    "    for i in range(len(y)):\n",
    "        linear_combination = (np.matmul(X[i], W) + b)[0]\n",
    "        if linear_combination > 0:\n",
    "            output = 1\n",
    "        else:\n",
    "            output = 0\n",
    "        \n",
    "        if output != y[i]:\n",
    "            if output == 0:\n",
    "                W[0] += X[i][0] * learn_rate\n",
    "                W[1] += X[i][1] * learn_rate\n",
    "                b += learn_rate\n",
    "            elif output == 1:\n",
    "                W[0] -= X[i][0] * learn_rate\n",
    "                W[1] -= X[i][1] * learn_rate\n",
    "                b -= learn_rate\n",
    "    return W, b\n",
    "\n",
    "    \n",
    "# This function runs the perceptron algorithm repeatedly on the dataset,\n",
    "# and returns a few of the boundary lines obtained in the iterations,\n",
    "# for plotting purposes.\n",
    "# Feel free to play with the learning rate and the num_epochs,\n",
    "# and see your results plotted below.\n",
    "def trainPerceptronAlgorithm(X, y, learn_rate=0.01, num_epochs=25):\n",
    "    W = np.array(np.random.rand(2, 1))\n",
    "    b = np.random.rand(1)[0] + max(X.T[0])\n",
    "    # These are the solution lines that get plotted below.\n",
    "    boundary_lines = []\n",
    "    for i in range(num_epochs):\n",
    "        # In each epoch, we apply the perceptron step.\n",
    "        W, b = perceptronStep(X, y, W, b, learn_rate)\n",
    "        boundary_lines.append((-W[0] / W[1], -b / W[1]))\n",
    "    return boundary_lines\n",
    "\n",
    "lines = trainPerceptronAlgorithm(np.array(test_inputs), np.array(correct_outputs))\n",
    "fig = plt.figure(figsize=(25, 4))\n",
    "for i, line in enumerate(lines[:5]):\n",
    "    ax = fig.add_subplot(1, 5, i + 1)\n",
    "    ax.scatter(data[data.iloc[:, 2] == 0].iloc[:, 0], data[data.iloc[:, 2] == 0].iloc[:, 1], color=\"r\")\n",
    "    ax.scatter(data[data.iloc[:, 2] == 1].iloc[:, 0], data[data.iloc[:, 2] == 1].iloc[:, 1], color=\"b\")\n",
    "    ax.plot(data.iloc[:, 0], line[1] + line[0] * data.iloc[:, 0], color=\"g\", linewidth=2)"
   ]
  },
  {
   "cell_type": "code",
   "execution_count": 8,
   "metadata": {},
   "outputs": [
    {
     "data": {
      "text/html": [
       "<img src=\"line.gif\">"
      ],
      "text/plain": [
       "<IPython.core.display.HTML object>"
      ]
     },
     "execution_count": 8,
     "metadata": {},
     "output_type": "execute_result"
    }
   ],
   "source": [
    "from IPython.display import HTML\n",
    "HTML('<img src=\"line.gif\">')"
   ]
  },
  {
   "cell_type": "code",
   "execution_count": 9,
   "metadata": {},
   "outputs": [
    {
     "name": "stderr",
     "output_type": "stream",
     "text": [
      "/Library/Frameworks/Python.framework/Versions/3.7/lib/python3.7/site-packages/matplotlib/__init__.py:886: MatplotlibDeprecationWarning: \n",
      "examples.directory is deprecated; in the future, examples will be found relative to the 'datapath' directory.\n",
      "  \"found relative to the 'datapath' directory.\".format(key))\n",
      "/Library/Frameworks/Python.framework/Versions/3.7/lib/python3.7/site-packages/matplotlib/figure.py:2362: UserWarning: This figure includes Axes that are not compatible with tight_layout, so results might be incorrect.\n",
      "  warnings.warn(\"This figure includes Axes that are not compatible \"\n"
     ]
    },
    {
     "data": {
      "image/png": "[encoded data removed]",
      "text/plain": [
       "<Figure size 360x288 with 1 Axes>"
      ]
     },
     "metadata": {
      "needs_background": "light"
     },
     "output_type": "display_data"
    }
   ],
   "source": [
    "import numpy as np\n",
    "import matplotlib.pyplot as plt\n",
    "from matplotlib.animation import FuncAnimation\n",
    "\n",
    "fig, ax = plt.subplots(figsize=(5, 4))\n",
    "fig.set_tight_layout(True)\n",
    "\n",
    "# Plot a scatter that persists (isn't redrawn) and the initial line\n",
    "x_vals = data.iloc[:, 0]\n",
    "ax.scatter(data[data.iloc[:, 2] == 0].iloc[:, 0], data[data.iloc[:, 2] == 0].iloc[:, 1], color=\"r\")\n",
    "ax.scatter(data[data.iloc[:, 2] == 1].iloc[:, 0], data[data.iloc[:, 2] == 1].iloc[:, 1], color=\"b\")\n",
    "line, = ax.plot(x_vals, x_vals, 'g-', linewidth=2)\n",
    "\n",
    "def update(frame):\n",
    "    y_vals = frame[1] + frame[0] * x_vals\n",
    "    line.set_ydata(y_vals)\n",
    "    return line, \n",
    "\n",
    "if __name__ == '__main__':\n",
    "    # FuncAnimation will call the 'update' function for each frame; here\n",
    "    # animating over 10 frames, with an interval of 200ms between frames.\n",
    "    anim = FuncAnimation(fig, update, frames=lines, interval=200)\n",
    "    anim.save('line.gif', dpi=80, writer='pillow')"
   ]
  },
  {
   "cell_type": "code",
   "execution_count": null,
   "metadata": {},
   "outputs": [],
   "source": []
  }
 ],
 "metadata": {
  "kernelspec": {
   "display_name": "Python 3",
   "language": "python",
   "name": "python3"
  },
  "language_info": {
   "codemirror_mode": {
    "name": "ipython",
    "version": 3
   },
   "file_extension": ".py",
   "mimetype": "text/x-python",
   "name": "python",
   "nbconvert_exporter": "python",
   "pygments_lexer": "ipython3",
   "version": "3.7.1"
  }
 },
 "nbformat": 4,
 "nbformat_minor": 2
}
